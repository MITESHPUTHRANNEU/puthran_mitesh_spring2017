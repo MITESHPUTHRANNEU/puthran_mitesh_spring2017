{
 "cells": [
  {
   "cell_type": "markdown",
   "metadata": {},
   "source": [
    "## Question 2 Analysis 3"
   ]
  },
  {
   "cell_type": "markdown",
   "metadata": {},
   "source": [
    "## To find the most used word type in the article(noun, pronoun etc.) "
   ]
  },
  {
   "cell_type": "code",
   "execution_count": 133,
   "metadata": {
    "collapsed": false
   },
   "outputs": [
    {
     "name": "stdout",
     "output_type": "stream",
     "text": [
      "The most used words in the download article is of type :\n",
      "NNP\n"
     ]
    }
   ],
   "source": [
    "import os, json\n",
    "import nltk\n",
    "\n",
    "path_to_json =r'Midterm\\Data\\NYTArticle'\n",
    "json_files = [pos_json for pos_json in os.listdir(path_to_json) if pos_json.endswith('.json')] #reading all the json files\n",
    "for js in json_files:\n",
    "    with open(os.path.join(path_to_json, js)) as json_file:\n",
    "        data=json.load(json_file)\n",
    "        for key in data[\"response\"][\"docs\"]:\n",
    "            p=str(key[\"headline\"][\"main\"])  #getting the main headline part from the file\n",
    "            text = nltk.word_tokenize(p)\n",
    "            a=nltk.pos_tag(text)  # using nltk to find out the word type\n",
    "            #print(a)\n",
    "            #tag_fd = nltk.FreqDist(tag for (word, tag) in a)\n",
    "            #b=tag_fd.most_common()\n",
    "            #print(b)\n",
    "            tags = [tag for (word, tag) in a]\n",
    "            z=nltk.FreqDist(tags).max()  #getting the max type of word in the downloaded article\n",
    "print(\"The most used words in the download article is of type :\")\n",
    "print(z)\n"
   ]
  },
  {
   "cell_type": "code",
   "execution_count": null,
   "metadata": {
    "collapsed": true
   },
   "outputs": [],
   "source": []
  }
 ],
 "metadata": {
  "kernelspec": {
   "display_name": "Python [conda root]",
   "language": "python",
   "name": "conda-root-py"
  },
  "language_info": {
   "codemirror_mode": {
    "name": "ipython",
    "version": 3
   },
   "file_extension": ".py",
   "mimetype": "text/x-python",
   "name": "python",
   "nbconvert_exporter": "python",
   "pygments_lexer": "ipython3",
   "version": "3.5.2"
  }
 },
 "nbformat": 4,
 "nbformat_minor": 1
}
