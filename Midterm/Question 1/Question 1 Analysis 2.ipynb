{
 "cells": [
  {
   "cell_type": "markdown",
   "metadata": {},
   "source": [
    "## Question 1 Analysis 2"
   ]
  },
  {
   "cell_type": "markdown",
   "metadata": {},
   "source": [
    "## Printing contents of a single mail"
   ]
  },
  {
   "cell_type": "code",
   "execution_count": 122,
   "metadata": {
    "collapsed": false
   },
   "outputs": [
    {
     "name": "stdout",
     "output_type": "stream",
     "text": [
      "Message-ID: <12097696.1075857594249.JavaMail.evans@thyme>\n",
      "Date: Wed, 13 Dec 2000 04:37:00 -0800 (PST)\n",
      "From: john.arnold@enron.com\n",
      "To: greg.whalley@enron.com\n",
      "Subject: \n",
      "Mime-Version: 1.0\n",
      "Content-Type: text/plain; charset=us-ascii\n",
      "Content-Transfer-Encoding: 7bit\n",
      "X-From: John Arnold\n",
      "X-To: Greg Whalley\n",
      "X-cc: \n",
      "X-bcc: \n",
      "X-Folder: \\John_Arnold_Dec2000\\Notes Folders\\'sent mail\n",
      "X-Origin: Arnold-J\n",
      "X-FileName: Jarnold.nsf\n",
      "\n",
      "remember when you said there is a reason they call them bear spreads?\n",
      "\n",
      "bring up a chart of f/g or g/h.   \n",
      "f/g is tighter now than anytime since march 99 when ff1 was worth 2.50\n",
      "\n",
      "\n",
      "amazing\n"
     ]
    }
   ],
   "source": [
    "import email\n",
    "with open('3', 'r') as myfile:\n",
    "    data=myfile.read()\n",
    "    print(data)"
   ]
  },
  {
   "cell_type": "markdown",
   "metadata": {},
   "source": [
    "## Finding top 10 people whom Jeffery Skilling sent most mails"
   ]
  },
  {
   "cell_type": "code",
   "execution_count": 195,
   "metadata": {
    "collapsed": false
   },
   "outputs": [
    {
     "name": "stdout",
     "output_type": "stream",
     "text": [
      "Top 10 people to whom Jeffrey Skilling sent most emails : \n",
      "[('David', 13), ('Kevin', 12), ('Mark', 10), ('John', 9), ('A', 9), ('Alder', 8), ('L', 8), ('W', 8), ('Amelia', 8), ('Karen', 7)]\n"
     ]
    }
   ],
   "source": [
    "import os\n",
    "import glob\n",
    "import email\n",
    "\n",
    "frequency={}\n",
    "path = r'C:\\Users\\mites\\Desktop\\PYTHON\\Midterm\\Data\\Enron\\maildir\\skilling-j\\_sent_mail'\n",
    "for infile in glob.glob( os.path.join(path, '*') ):  #getting all the files\n",
    "    with open(infile,'r') as myfile:\n",
    "        data=myfile.read()\n",
    "        msg = email.message_from_string(data) #using email's inbuilt method to et the data\n",
    "        p = str(msg['X-To']).split() #converting it into list\n",
    "        for w in p:\n",
    "            if w not in frequency:\n",
    "                frequency[w] = 1\n",
    "            else:\n",
    "                frequency[w] += 1\n",
    "\n",
    "freqwords=sorted(frequency.items(),  key=lambda x: x[1], reverse=True) # using sorted function to sort the words \n",
    "print(\"Top 10 people to whom Jeffrey Skilling sent most emails : \")\n",
    "print(freqwords[:10])"
   ]
  },
  {
   "cell_type": "markdown",
   "metadata": {},
   "source": [
    "## Exporting the data to CSV"
   ]
  },
  {
   "cell_type": "code",
   "execution_count": 196,
   "metadata": {
    "collapsed": true
   },
   "outputs": [],
   "source": [
    "import csv    # this part of the code is used to put the data into the csv file.\n",
    "n=0\n",
    "list(n)\n",
    "title = ['Name-Rank-No.ofMails']   # to display the first row of the csv file\n",
    "with open('top10jeff.csv', 'w',newline=\"\") as out:\n",
    "    writer = csv.writer(out)\n",
    "    for x in title:\n",
    "        writer.writerow(x.split(\"-\")) # splits the title into different colums \n",
    "    for e in top10:\n",
    "        n=n+1\n",
    "        writer.writerow([e,n])"
   ]
  },
  {
   "cell_type": "markdown",
   "metadata": {},
   "source": [
    "## Plotting graph for the number of mails sent by Jeffery to top10 persons"
   ]
  },
  {
   "cell_type": "code",
   "execution_count": 197,
   "metadata": {
    "collapsed": false
   },
   "outputs": [
    {
     "data": {
      "image/png": "[encoded data removed]",
      "text/plain": [
       "<matplotlib.figure.Figure at 0x1c726cc2a20>"
      ]
     },
     "metadata": {},
     "output_type": "display_data"
    }
   ],
   "source": [
    "import matplotlib.pyplot as plt\n",
    "import csv\n",
    "\n",
    "x = []   # making empty lists\n",
    "y = []\n",
    "\n",
    "with open('top10jeff.csv','r') as csvfile:\n",
    "    plots = csv.reader(csvfile, delimiter=',')\n",
    "    next(csvfile)\n",
    "    for row in plots:\n",
    "        x.append(int(row[1]))  #row[1] is the rank column in the excel file\n",
    "        y.append(int(row[2]))  #row[2] is the frequency column in the excel file\n",
    "\n",
    "plt.plot(x,y,label=\"Number of emails sent by Jeffrey\",color='r',linewidth=5)  # plotting the graph for frequency of words against its rank using log-log\n",
    "plt.xlabel('Rank') #X-axis label\n",
    "plt.ylabel('Frequency') #Y-axis label\n",
    "plt.grid(True)\n",
    "#plt.title(\"Zipf's Law\")\n",
    "plt.legend()\n",
    "plt.show()"
   ]
  },
  {
   "cell_type": "code",
   "execution_count": null,
   "metadata": {
    "collapsed": true
   },
   "outputs": [],
   "source": []
  }
 ],
 "metadata": {
  "anaconda-cloud": {},
  "kernelspec": {
   "display_name": "Python [conda root]",
   "language": "python",
   "name": "conda-root-py"
  },
  "language_info": {
   "codemirror_mode": {
    "name": "ipython",
    "version": 3
   },
   "file_extension": ".py",
   "mimetype": "text/x-python",
   "name": "python",
   "nbconvert_exporter": "python",
   "pygments_lexer": "ipython3",
   "version": "3.5.2"
  }
 },
 "nbformat": 4,
 "nbformat_minor": 1
}
