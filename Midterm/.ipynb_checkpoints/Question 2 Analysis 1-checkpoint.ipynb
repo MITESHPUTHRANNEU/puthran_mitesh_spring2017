{
 "cells": [
  {
   "cell_type": "markdown",
   "metadata": {},
   "source": [
    "## Question 2 Analysis 1"
   ]
  },
  {
   "cell_type": "code",
   "execution_count": 4,
   "metadata": {
    "collapsed": true
   },
   "outputs": [],
   "source": [
    "import os"
   ]
  },
  {
   "cell_type": "markdown",
   "metadata": {},
   "source": [
    "## Importing data from the archives"
   ]
  },
  {
   "cell_type": "code",
   "execution_count": 5,
   "metadata": {
    "collapsed": false
   },
   "outputs": [],
   "source": [
    "import json, requests\n",
    "from pprint import pprint\n",
    "url = 'http://api.nytimes.com/svc/archive/v1/2015/1.json?api-key=153267972f774925a35583656ae8905d';\n",
    "\n",
    "resp = requests.get(url)\n",
    "data = json.loads(resp.text)\n",
    "\n",
    "with open('Jan-2015.json', 'w') as outfile:\n",
    "    json.dump(data, outfile)"
   ]
  },
  {
   "cell_type": "markdown",
   "metadata": {},
   "source": [
    "## Importing data for the article"
   ]
  },
  {
   "cell_type": "code",
   "execution_count": 144,
   "metadata": {
    "collapsed": true
   },
   "outputs": [],
   "source": [
    "import json, requests\n",
    "from pprint import pprint\n",
    "url = 'http://api.nytimes.com/svc/search/v2/articlesearch.json?fq=Trump&facet_field=day_of_week&begin_date=20150101&end_date=20170301&api-key=ca628b68e0ef4515844dc2e15d27a5e3';\n",
    "\n",
    "resp = requests.get(url)\n",
    "art_data = json.loads(resp.text)\n",
    "\n",
    "with open('Trump.json', 'w') as outfile:\n",
    "    json.dump(art_data, outfile)\n"
   ]
  },
  {
   "cell_type": "code",
   "execution_count": 63,
   "metadata": {
    "collapsed": false
   },
   "outputs": [
    {
     "name": "stdout",
     "output_type": "stream",
     "text": [
      "status\n",
      "copyright\n",
      "response\n"
     ]
    }
   ],
   "source": [
    "for key in art_data:\n",
    "    print(key)"
   ]
  },
  {
   "cell_type": "code",
   "execution_count": 136,
   "metadata": {
    "collapsed": false
   },
   "outputs": [
    {
     "name": "stdout",
     "output_type": "stream",
     "text": [
      "docs\n",
      "meta\n"
     ]
    }
   ],
   "source": [
    "for key in data[\"response\"]:\n",
    "    print(key)"
   ]
  },
  {
   "cell_type": "markdown",
   "metadata": {},
   "source": [
    "## Creating the folder structure according to the date"
   ]
  },
  {
   "cell_type": "code",
   "execution_count": 116,
   "metadata": {
    "collapsed": false
   },
   "outputs": [],
   "source": [
    "import json\n",
    "files = glob.glob(r\"C:\\\\Users\\mites\\Desktop\\PYTHON\\Midterm\\Data\\NYT\\*\")\n",
    "list = []\n",
    "for file in files:     #for loop to read every file of the corpus\n",
    "    with open(file, 'r') as f:   #open files\n",
    "        json_file = json.load(f)  #loading the files\n",
    "        json_keys = json_file.keys()\n",
    "        for keys in json_keys: \n",
    "            if keys == 'response':  #searching for the term'response'\n",
    "                response_file = json_file['response']\n",
    "                response_keys = response_file.keys()\n",
    "                for resk in response_keys:\n",
    "                    if resk == 'docs':  #searching for the term 'docs'\n",
    "                        docs_file = json_file['response']['docs']\n",
    "                        i = 0\n",
    "                        for doc in docs_file:\n",
    "                            pub_date = json_file['response']['docs'][i]['pub_date'][0:10]   #iterating through all the dictonaries inside a file\n",
    "                            id = json_file['response']['docs'][i]['_id']\n",
    "                            if pub_date is not None:  #handling the Nonetype erroe\n",
    "                                a = pub_date.replace('  ','')  #replacing spaces in the date to create folders\n",
    "                                g = a.replace(' ','') #replacing spaces in the date to create folders\n",
    "                                b = g.replace(':','') #replacing colon in the date to create folders\n",
    "                                d = b.replace('/','') #replacing slash in the date to create folders\n",
    "                                if d != 'false':\n",
    "                                    list.append(pub_date)\n",
    "                                    pub_date = \"DataProcessedNYT\\\\\" + d\n",
    "                                    presentSection=os.path.isdir(pub_date) #checking whether the folder is already present\n",
    "                                    os.makedirs(pub_date, exist_ok=True)    #if folder doesn't exist then create one\n",
    "                                    with open(pub_date+\"\\\\\" + id + '.json', 'w') as outfile:\n",
    "                                        json.dump(json_file['response']['docs'][i], outfile)                       \n",
    "                                    i += 1"
   ]
  },
  {
   "cell_type": "markdown",
   "metadata": {},
   "source": [
    "## To find the top 50 article type printed in NYT from last 2 years"
   ]
  },
  {
   "cell_type": "code",
   "execution_count": 143,
   "metadata": {
    "collapsed": false
   },
   "outputs": [
    {
     "name": "stdout",
     "output_type": "stream",
     "text": [
      "Top 50 articles with their number in New York Times from 2015/01/01 to 2017/02/28 are : \n",
      "[('U.S.', 18739), ('World', 17667), ('Sports', 16588), ('Opinion', 15801), ('Arts', 14706), ('Business', 13594), ('Day', 13594), ('N.Y.', 10556), ('/', 10556), ('Region', 10556), ('&', 9448), ('Style', 8973), ('Fashion', 8286), ('Magazine', 5302), ('Death', 4777), ('Notices', 4777), ('Paid', 4777), ('Books', 4047), ('false', 4024), ('Movies', 3819), ('Technology', 3359), ('T', 3354), ('Real', 2513), ('Estate', 2513), ('The', 2326), ('Food', 2309), ('Theater', 2168), ('Travel', 2150), ('Science', 2119), ('Health', 1993), ('Upshot', 1804), ('Now', 1604), ('NYT', 1604), ('Education', 1299), ('Blogs', 1283), ('Corrections', 1128), ('Games', 961), ('Crosswords', 961), ('Your', 790), ('Money', 790), ('Times', 725), ('Insider', 696), ('Multimedia/Photos', 692), ('Universal', 587), ('Learning', 525), ('Network', 522), ('Briefing', 463), ('None', 426), ('Paper', 401), ('Today’s', 401)]\n"
     ]
    }
   ],
   "source": [
    "import os, json\n",
    "frequency={}\n",
    "path_to_json =r'C:\\Users\\mites\\Desktop\\PYTHON\\Midterm\\Data\\NYT'\n",
    "json_files = [pos_json for pos_json in os.listdir(path_to_json) if pos_json.endswith('.json')]\n",
    "for js in json_files:\n",
    "    with open(os.path.join(path_to_json, js)) as json_file:\n",
    "        data=json.load(json_file)\n",
    "        for key in data[\"response\"][\"docs\"]:\n",
    "            p=str(key[\"section_name\"]).split()\n",
    "            for w in p:\n",
    "                if w not in frequency:\n",
    "                    frequency[w] = 1\n",
    "                else:\n",
    "                    frequency[w] += 1\n",
    "freqwords=sorted(frequency.items(),  key=lambda x: x[1], reverse=True) # using sorted function to sort the words \n",
    "print(\"Top 50 articles with their number in New York Times from 2015/01/01 to 2017/02/28 are : \")\n",
    "print(freqwords[:50])"
   ]
  },
  {
   "cell_type": "markdown",
   "metadata": {},
   "source": [
    "## Exporting the data to CSV file"
   ]
  },
  {
   "cell_type": "code",
   "execution_count": 131,
   "metadata": {
    "collapsed": false
   },
   "outputs": [],
   "source": [
    "import csv    # this part of the code is used to put the data into the csv file.\n",
    "n=0\n",
    "list(n)\n",
    "title = ['Section-Rank-Frequency']   # to display the first row of the csv file\n",
    "with open('section.csv', 'w',newline=\"\") as out:\n",
    "    writer = csv.writer(out)\n",
    "    for x in title:\n",
    "        writer.writerow(x.split(\"-\")) # splits the title into different colums \n",
    "    for e in freqwords:\n",
    "        n=n+1\n",
    "        writer.writerow(e)"
   ]
  },
  {
   "cell_type": "markdown",
   "metadata": {},
   "source": [
    "## Plotting the graph for the most popular article type in accordance to the rank"
   ]
  },
  {
   "cell_type": "code",
   "execution_count": 132,
   "metadata": {
    "collapsed": false
   },
   "outputs": [
    {
     "data": {
      "image/png": "[encoded data removed]",
      "text/plain": [
       "<matplotlib.figure.Figure at 0x1e3f7d598d0>"
      ]
     },
     "metadata": {},
     "output_type": "display_data"
    }
   ],
   "source": [
    "import matplotlib.pyplot as plt\n",
    "import csv\n",
    "\n",
    "x = []   # making empty lists\n",
    "y = []\n",
    "\n",
    "with open('section.csv','r') as csvfile:\n",
    "    plots = csv.reader(csvfile, delimiter=',')\n",
    "    next(csvfile)\n",
    "    for row in plots:\n",
    "        x.append(int(row[1]))  #row[1] is the rank column in the excel file\n",
    "        y.append(int(row[2]))  #row[2] is the frequency column in the excel file\n",
    "\n",
    "plt.plot(x,y, label=\"Popular Articles since 2015/01/01 to\",color='y',linewidth=3)  # plotting the graph for frequency of words against its rank using log-log\n",
    "plt.xlabel('Rank') #X-axis label\n",
    "plt.ylabel('Frequency') #Y-axis label\n",
    "#plt.title(\"Zipf's Law\")\n",
    "plt.legend()\n",
    "plt.show()"
   ]
  },
  {
   "cell_type": "code",
   "execution_count": null,
   "metadata": {
    "collapsed": false
   },
   "outputs": [],
   "source": []
  }
 ],
 "metadata": {
  "anaconda-cloud": {},
  "kernelspec": {
   "display_name": "Python [conda root]",
   "language": "python",
   "name": "conda-root-py"
  },
  "language_info": {
   "codemirror_mode": {
    "name": "ipython",
    "version": 3
   },
   "file_extension": ".py",
   "mimetype": "text/x-python",
   "name": "python",
   "nbconvert_exporter": "python",
   "pygments_lexer": "ipython3",
   "version": "3.5.2"
  }
 },
 "nbformat": 4,
 "nbformat_minor": 1
}
