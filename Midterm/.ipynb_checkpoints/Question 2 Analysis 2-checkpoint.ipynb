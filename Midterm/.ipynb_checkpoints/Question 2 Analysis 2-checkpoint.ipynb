{
 "cells": [
  {
   "cell_type": "markdown",
   "metadata": {},
   "source": [
    "## Question 2 Analysis 2"
   ]
  },
  {
   "cell_type": "markdown",
   "metadata": {},
   "source": [
    "## Displaying content of a file"
   ]
  },
  {
   "cell_type": "code",
   "execution_count": 23,
   "metadata": {
    "collapsed": false
   },
   "outputs": [
    {
     "name": "stdout",
     "output_type": "stream",
     "text": [
      "{'_id': '5822a8dc7c459f6a5fcccf74',\n",
      " 'abstract': None,\n",
      " 'blog': [],\n",
      " 'byline': {'original': 'By ANDREW JACOBS',\n",
      "            'person': [{'firstname': 'Andrew',\n",
      "                        'lastname': 'JACOBS',\n",
      "                        'organization': '',\n",
      "                        'rank': 1,\n",
      "                        'role': 'reported'}]},\n",
      " 'document_type': 'article',\n",
      " 'headline': {'content_kicker': 'Sinosphere',\n",
      "              'main': 'Chinese Journalists Get an Exhilarating Look at the '\n",
      "                      'U.S. Election'},\n",
      " 'keywords': [{'is_major': 'N',\n",
      "               'name': 'subject',\n",
      "               'rank': '1',\n",
      "               'value': 'Presidential Election of 2016'},\n",
      "              {'is_major': 'N',\n",
      "               'name': 'subject',\n",
      "               'rank': '2',\n",
      "               'value': 'News and News Media'},\n",
      "              {'is_major': 'N',\n",
      "               'name': 'subject',\n",
      "               'rank': '3',\n",
      "               'value': 'Freedom of the Press'},\n",
      "              {'is_major': 'N',\n",
      "               'name': 'subject',\n",
      "               'rank': '4',\n",
      "               'value': 'Censorship'},\n",
      "              {'is_major': 'N',\n",
      "               'name': 'organizations',\n",
      "               'rank': '5',\n",
      "               'value': 'State Department'},\n",
      "              {'is_major': 'N',\n",
      "               'name': 'glocations',\n",
      "               'rank': '6',\n",
      "               'value': 'China'}],\n",
      " 'lead_paragraph': 'A small group of Chinese reporters has been traveling '\n",
      "                   'across America, courtesy of the State Department, and '\n",
      "                   'hoping their articles pass muster with China’s censors.',\n",
      " 'multimedia': [{'height': 126,\n",
      "                 'legacy': {'wide': 'images/2016/11/10/world/10CHINAREPORTER-1/10CHINAREPORTER-1-thumbWide.jpg',\n",
      "                            'wideheight': '126',\n",
      "                            'widewidth': '190'},\n",
      "                 'subtype': 'wide',\n",
      "                 'type': 'image',\n",
      "                 'url': 'images/2016/11/10/world/10CHINAREPORTER-1/10CHINAREPORTER-1-thumbWide.jpg',\n",
      "                 'width': 190},\n",
      "                {'height': 400,\n",
      "                 'legacy': {'xlarge': 'images/2016/11/10/world/10CHINAREPORTER-1/10CHINAREPORTER-1-articleLarge.jpg',\n",
      "                            'xlargeheight': '400',\n",
      "                            'xlargewidth': '600'},\n",
      "                 'subtype': 'xlarge',\n",
      "                 'type': 'image',\n",
      "                 'url': 'images/2016/11/10/world/10CHINAREPORTER-1/10CHINAREPORTER-1-articleLarge.jpg',\n",
      "                 'width': 600},\n",
      "                {'height': 75,\n",
      "                 'legacy': {'thumbnail': 'images/2016/11/10/world/10CHINAREPORTER-1/10CHINAREPORTER-1-thumbStandard.jpg',\n",
      "                            'thumbnailheight': '75',\n",
      "                            'thumbnailwidth': '75'},\n",
      "                 'subtype': 'thumbnail',\n",
      "                 'type': 'image',\n",
      "                 'url': 'images/2016/11/10/world/10CHINAREPORTER-1/10CHINAREPORTER-1-thumbStandard.jpg',\n",
      "                 'width': 75}],\n",
      " 'news_desk': 'Foreign',\n",
      " 'print_page': None,\n",
      " 'pub_date': '2016-11-09T04:40:58Z',\n",
      " 'section_name': 'World',\n",
      " 'slideshow_credits': None,\n",
      " 'snippet': 'A small group of Chinese reporters has been traveling across '\n",
      "            'America, courtesy of the State Department, and hoping their '\n",
      "            'articles pass muster with China’s censors....',\n",
      " 'source': 'The New York Times',\n",
      " 'subsection_name': 'Asia Pacific',\n",
      " 'type_of_material': 'News',\n",
      " 'web_url': 'http://www.nytimes.com/2016/11/10/world/asia/us-election-china-journalists.html',\n",
      " 'word_count': '815'}\n"
     ]
    }
   ],
   "source": [
    "import json\n",
    "from pprint import pprint\n",
    "with open(r'C:\\Users\\mites\\Desktop\\PYTHON\\Midterm\\DataProcessedNYT\\2016-11-09\\5822a8dc7c459f6a5fcccf74.json') as json_data:\n",
    "    d = json.load(json_data)\n",
    "    pprint(d)"
   ]
  },
  {
   "cell_type": "markdown",
   "metadata": {},
   "source": [
    "## To find the number of headline containing \"TRUMP\" when he won the presidential election"
   ]
  },
  {
   "cell_type": "code",
   "execution_count": 95,
   "metadata": {
    "collapsed": false
   },
   "outputs": [
    {
     "name": "stdout",
     "output_type": "stream",
     "text": [
      "The number of headlines in NEW YORK TIMES containing 'Trump' when he was elected as the president is :\n",
      "28\n"
     ]
    }
   ],
   "source": [
    "import os, json\n",
    "frequency={}\n",
    "n=0\n",
    "path_to_json =r'C:\\Users\\mites\\Desktop\\PYTHON\\Midterm\\DataProcessedNYT\\2016-11-09'\n",
    "json_files = [pos_json for pos_json in os.listdir(path_to_json) if pos_json.endswith('.json')] #reading the json file\n",
    "for js in json_files:\n",
    "    with open(os.path.join(path_to_json, js)) as json_file:\n",
    "        data=json.load(json_file)\n",
    "        p= data[\"headline\"][\"main\"] #getting the main headline part from the file\n",
    "        \n",
    "        if p !=None:\n",
    "            q= p.split(' ')\n",
    "            for x in q:\n",
    "                if x=='Trump': #searching for the keyword'Trump' in the articcle when he was elected as the new president\n",
    "                    n +=1\n",
    "                    #print(p)\n",
    "print(\"The number of headlines in NEW YORK TIMES containing 'Trump' when he was elected as the president is :\")\n",
    "print(n)"
   ]
  },
  {
   "cell_type": "code",
   "execution_count": null,
   "metadata": {
    "collapsed": true
   },
   "outputs": [],
   "source": []
  }
 ],
 "metadata": {
  "anaconda-cloud": {},
  "kernelspec": {
   "display_name": "Python [conda root]",
   "language": "python",
   "name": "conda-root-py"
  },
  "language_info": {
   "codemirror_mode": {
    "name": "ipython",
    "version": 3
   },
   "file_extension": ".py",
   "mimetype": "text/x-python",
   "name": "python",
   "nbconvert_exporter": "python",
   "pygments_lexer": "ipython3",
   "version": "3.5.2"
  }
 },
 "nbformat": 4,
 "nbformat_minor": 1
}
