{
 "cells": [
  {
   "cell_type": "markdown",
   "metadata": {},
   "source": [
    "## Question 1 Analysis 3"
   ]
  },
  {
   "cell_type": "markdown",
   "metadata": {},
   "source": [
    "## To find the average words in email sent by Jeffery Skilling"
   ]
  },
  {
   "cell_type": "code",
   "execution_count": 3,
   "metadata": {
    "collapsed": false
   },
   "outputs": [
    {
     "name": "stdout",
     "output_type": "stream",
     "text": [
      "The average number of words in a single email sent by Jeffery Skilling is: \n",
      "72.61432777232581\n"
     ]
    }
   ],
   "source": [
    "import os\n",
    "import glob\n",
    "import email\n",
    "import nltk\n",
    "x=[]\n",
    "path = r'C:\\Users\\mites\\Desktop\\PYTHON\\Midterm\\Data\\Enron\\maildir\\skilling-j\\_sent_mail'\n",
    "for infile in glob.glob( os.path.join(path, '*') ): #getting all the files\n",
    "    with open(infile,'r') as myfile:\n",
    "        data=myfile.read()\n",
    "        msg = email.message_from_string(data)\n",
    "        aa=msg.get_payload()  # using payload to get the message part of the email when the body is not explicitly defined\n",
    "        words = nltk.word_tokenize(aa)  #using nltk to copy the data in a list\n",
    "        for asd in words:\n",
    "            x.append(words) #appending all the words together\n",
    "print(\"The average number of words in a single email sent by Jeffery Skilling is: \")\n",
    "print(len(x)/len(words)) #calculating the avergae words"
   ]
  },
  {
   "cell_type": "code",
   "execution_count": null,
   "metadata": {
    "collapsed": true
   },
   "outputs": [],
   "source": []
  }
 ],
 "metadata": {
  "kernelspec": {
   "display_name": "Python [conda root]",
   "language": "python",
   "name": "conda-root-py"
  },
  "language_info": {
   "codemirror_mode": {
    "name": "ipython",
    "version": 3
   },
   "file_extension": ".py",
   "mimetype": "text/x-python",
   "name": "python",
   "nbconvert_exporter": "python",
   "pygments_lexer": "ipython3",
   "version": "3.5.2"
  }
 },
 "nbformat": 4,
 "nbformat_minor": 1
}
