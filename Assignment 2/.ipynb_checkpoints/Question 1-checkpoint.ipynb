{
 "cells": [
  {
   "cell_type": "markdown",
   "metadata": {},
   "source": [
    "- Using 'glob to open and read file. Using LOOP to achieve multiple file read. \n",
    "- Saving data in a CSV file containing (Word, Rank, Frequency) as TITLE and sorting it by RANK. \n",
    "- Plotting a graph using Matplotlib to prove Zipf's Law"
   ]
  },
  {
   "cell_type": "code",
   "execution_count": 3,
   "metadata": {
    "collapsed": true
   },
   "outputs": [],
   "source": [
    "import nltk"
   ]
  },
  {
   "cell_type": "code",
   "execution_count": 5,
   "metadata": {
    "collapsed": false
   },
   "outputs": [],
   "source": [
    "import glob\n",
    "file_list  = glob.glob(r'C:\\\\nltk_data\\corpora\\gutenberg\\*.txt') # using glob to read all the files in the corpus"
   ]
  },
  {
   "cell_type": "code",
   "execution_count": 6,
   "metadata": {
    "collapsed": false
   },
   "outputs": [
    {
     "data": {
      "text/plain": [
       "['C:\\\\\\\\nltk_data\\\\corpora\\\\gutenberg\\\\austen-emma.txt',\n",
       " 'C:\\\\\\\\nltk_data\\\\corpora\\\\gutenberg\\\\austen-persuasion.txt',\n",
       " 'C:\\\\\\\\nltk_data\\\\corpora\\\\gutenberg\\\\austen-sense.txt',\n",
       " 'C:\\\\\\\\nltk_data\\\\corpora\\\\gutenberg\\\\bible-kjv.txt',\n",
       " 'C:\\\\\\\\nltk_data\\\\corpora\\\\gutenberg\\\\blake-poems.txt',\n",
       " 'C:\\\\\\\\nltk_data\\\\corpora\\\\gutenberg\\\\bryant-stories.txt',\n",
       " 'C:\\\\\\\\nltk_data\\\\corpora\\\\gutenberg\\\\burgess-busterbrown.txt',\n",
       " 'C:\\\\\\\\nltk_data\\\\corpora\\\\gutenberg\\\\carroll-alice.txt',\n",
       " 'C:\\\\\\\\nltk_data\\\\corpora\\\\gutenberg\\\\chesterton-ball.txt',\n",
       " 'C:\\\\\\\\nltk_data\\\\corpora\\\\gutenberg\\\\chesterton-brown.txt',\n",
       " 'C:\\\\\\\\nltk_data\\\\corpora\\\\gutenberg\\\\chesterton-thursday.txt',\n",
       " 'C:\\\\\\\\nltk_data\\\\corpora\\\\gutenberg\\\\edgeworth-parents.txt',\n",
       " 'C:\\\\\\\\nltk_data\\\\corpora\\\\gutenberg\\\\melville-moby_dick.txt',\n",
       " 'C:\\\\\\\\nltk_data\\\\corpora\\\\gutenberg\\\\milton-paradise.txt',\n",
       " 'C:\\\\\\\\nltk_data\\\\corpora\\\\gutenberg\\\\shakespeare-caesar.txt',\n",
       " 'C:\\\\\\\\nltk_data\\\\corpora\\\\gutenberg\\\\shakespeare-hamlet.txt',\n",
       " 'C:\\\\\\\\nltk_data\\\\corpora\\\\gutenberg\\\\shakespeare-macbeth.txt',\n",
       " 'C:\\\\\\\\nltk_data\\\\corpora\\\\gutenberg\\\\whitman-leaves.txt']"
      ]
     },
     "execution_count": 6,
     "metadata": {},
     "output_type": "execute_result"
    }
   ],
   "source": [
    "file_list # to display all the files contained in gutenberg corpus"
   ]
  },
  {
   "cell_type": "code",
   "execution_count": 8,
   "metadata": {
    "collapsed": true
   },
   "outputs": [],
   "source": [
    "import re\n",
    "\n",
    "mystr = lines\n",
    "wordList = re.sub(\"[^\\w]\", \" \",  mystr).split()\n"
   ]
  },
  {
   "cell_type": "code",
   "execution_count": 184,
   "metadata": {
    "collapsed": false
   },
   "outputs": [
    {
     "name": "stdout",
     "output_type": "stream",
     "text": [
      "['Leaves', 'of', 'Grass', 'by', 'Walt', 'Whitman', '1855', 'Come', 'said', 'my', 'soul', 'Such', 'verses', 'for', 'my', 'Body', 'let', 'us', 'write', 'for', 'we', 'are', 'one', 'That', 'should', 'I', 'after', 'return', 'Or', 'long', 'long', 'hence', 'in', 'other', 'spheres', 'There', 'to', 'some', 'group', 'of', 'mates', 'the', 'chants', 'resuming', 'Tallying', 'Earth', 's', 'soil', 'trees', 'winds', 'tumultuous', 'waves', 'Ever', 'with', 'pleas', 'd', 'smile', 'I', 'may', 'keep', 'on', 'Ever', 'and', 'ever', 'yet', 'the', 'verses', 'owning', 'as', 'first', 'I', 'here', 'and', 'now', 'Signing', 'for', 'Soul', 'and', 'Body', 'set', 'to', 'them', 'my', 'name', 'Walt', 'Whitman', 'BOOK', 'I', 'INSCRIPTIONS', 'One', 's', 'Self', 'I', 'Sing', 'One', 's', 'self', 'I', 'sing', 'a', 'simple', 'separate', 'person', 'Yet', 'utter', 'the', 'word', 'Democratic', 'the', 'word', 'En', 'Masse', 'Of', 'physiology', 'from', 'top', 'to', 'toe', 'I', 'sing', 'Not', 'physiognomy', 'alone', 'nor', 'brain', 'alone', 'is', 'worthy', 'for', 'the', 'Muse', 'I', 'say', 'the', 'Form', 'complete', 'is', 'worthier', 'far', 'The', 'Female', 'equally', 'with', 'the', 'Male', 'I', 'sing', 'Of', 'Life', 'immense', 'in', 'passion', 'pulse', 'and', 'power', 'Cheerful', 'for', 'freest', 'action', 'form', 'd', 'under', 'the', 'laws', 'divine', 'The', 'Modern', 'Man', 'I', 'sing', 'As', 'I', 'Ponder', 'd', 'in', 'Silence', 'As', 'I', 'ponder', 'd', 'in', 'silence', 'Returning', 'upon', 'my', 'poems', 'considering', 'lingering', 'long', 'A', 'Phantom', 'arose', 'before', 'me', 'with', 'distrustful', 'aspect', 'Terrible', 'in', 'beauty']\n"
     ]
    }
   ],
   "source": [
    "print (wordList[:200]) #Displaying the first 200 word form the list"
   ]
  },
  {
   "cell_type": "markdown",
   "metadata": {},
   "source": [
    "#### Finding frequency of words in gutenburg corpus"
   ]
  },
  {
   "cell_type": "code",
   "execution_count": 166,
   "metadata": {
    "collapsed": false
   },
   "outputs": [
    {
     "name": "stdout",
     "output_type": "stream",
     "text": [
      "Words with the highest frequency are : \n"
     ]
    },
    {
     "data": {
      "text/plain": [
       "[('the', 133211),\n",
       " ('and', 94787),\n",
       " ('of', 71173),\n",
       " ('to', 47591),\n",
       " ('a', 33573),\n",
       " ('in', 33391),\n",
       " ('i', 28593),\n",
       " ('that', 28241),\n",
       " ('he', 25408),\n",
       " ('it', 21537),\n",
       " ('his', 21375),\n",
       " ('for', 19396),\n",
       " ('was', 18647),\n",
       " ('with', 17560),\n",
       " ('not', 17281),\n",
       " ('is', 16343),\n",
       " ('be', 16056),\n",
       " ('you', 15878),\n",
       " ('as', 14464),\n",
       " ('but', 13558),\n",
       " ('all', 13557),\n",
       " ('they', 12983),\n",
       " ('him', 12928),\n",
       " ('shall', 11676),\n",
       " ('her', 11446),\n",
       " ('my', 10462),\n",
       " ('had', 10305),\n",
       " ('them', 10199),\n",
       " ('have', 10100),\n",
       " ('said', 9396),\n",
       " ('me', 9360),\n",
       " ('at', 9134),\n",
       " ('from', 9062),\n",
       " ('unto', 9010),\n",
       " ('she', 8897),\n",
       " ('this', 8848),\n",
       " ('which', 8742),\n",
       " ('on', 8536),\n",
       " ('by', 8457),\n",
       " ('lord', 8441),\n",
       " ('their', 7790),\n",
       " ('so', 7704),\n",
       " ('will', 7311),\n",
       " ('were', 6872),\n",
       " ('are', 6838),\n",
       " ('thou', 6740),\n",
       " ('when', 6296),\n",
       " ('or', 6272),\n",
       " ('one', 6066),\n",
       " ('there', 6032)]"
      ]
     },
     "execution_count": 166,
     "metadata": {},
     "output_type": "execute_result"
    }
   ],
   "source": [
    "frequency={} # an empty dictionary\n",
    "filelist= glob.glob(r'C:\\\\nltk_data\\corpora\\gutenberg\\*.txt') # selecting all the files in gutenberg corpus\n",
    "for x in filelist: \n",
    "    with open(x,'r') as f:\n",
    "        file=f.read()\n",
    "        lowercase=file.lower() #converting all the words in lower case\n",
    "        words = re.sub('['+string.punctuation+']', '', lowercase).split() #removing the punctuations from the word list\n",
    "        #string_to_words = lower_words.strip(string.punctuation)\n",
    "    for w in words:\n",
    "        if w.isalpha(): # to check whether we have all alphabets in the word list\n",
    "            if w not in frequency:\n",
    "                frequency[w] = 1  #initial frequency of the word\n",
    "            else:\n",
    "                frequency[w] += 1 # for existing words, increment by 1\n",
    "freqwords=sorted(frequency.items(),  key=lambda x: x[1], reverse=True) # using sorted function to sort the words \n",
    "print(\"Words with the highest frequency are : \")\n",
    "freqwords[:50] # displaying top 50 words from the list"
   ]
  },
  {
   "cell_type": "markdown",
   "metadata": {},
   "source": [
    "#### Defining a function to convert text of corpus to lower case"
   ]
  },
  {
   "cell_type": "code",
   "execution_count": 180,
   "metadata": {
    "collapsed": false
   },
   "outputs": [],
   "source": [
    "import os\n",
    "\n",
    "def test():\n",
    "    x = glob.glob(r'C:\\\\nltk_data\\corpora\\gutenberg\\*.txt')\n",
    "    with open(x, \"r+b\") as inputFile:\n",
    "        content = inputFile.read()\n",
    "        inputFile.seek(0)\n",
    "        inputFile.write(content.lower())\n",
    "                \n",
    "    "
   ]
  },
  {
   "cell_type": "markdown",
   "metadata": {},
   "source": [
    "#### To copy the above data into CSV file"
   ]
  },
  {
   "cell_type": "code",
   "execution_count": 99,
   "metadata": {
    "collapsed": false
   },
   "outputs": [],
   "source": [
    "import csv    # this part of the code is used to put the data into the csv file.\n",
    "n=0\n",
    "list(n)\n",
    "title = ['Word-Rank-Frequency']   # to display the first row of the csv file\n",
    "with open('out.csv', 'w',newline=\"\") as out:\n",
    "    writer = csv.writer(out)\n",
    "    for x in title:\n",
    "        writer.writerow(x.split(\"-\")) # splits the title into different colums \n",
    "    for e in freqwords:\n",
    "        n=n+1     # prints the ranks for each word in the file\n",
    "        writer.writerow([e,n])\n",
    "        "
   ]
  },
  {
   "cell_type": "markdown",
   "metadata": {},
   "source": [
    "#### Plotting the graph using Matplotlib"
   ]
  },
  {
   "cell_type": "code",
   "execution_count": 138,
   "metadata": {
    "collapsed": false
   },
   "outputs": [
    {
     "data": {
      "image/png": "[encoded data removed]",
      "text/plain": [
       "<matplotlib.figure.Figure at 0x1fba15640f0>"
      ]
     },
     "metadata": {},
     "output_type": "display_data"
    }
   ],
   "source": [
    "import matplotlib.pyplot as plt\n",
    "import csv\n",
    "\n",
    "x = []   # making empty lists\n",
    "y = []\n",
    "\n",
    "with open('out.csv','r') as csvfile:\n",
    "    plots = csv.reader(csvfile, delimiter=',')\n",
    "    next(csvfile)\n",
    "    for row in plots:\n",
    "        x.append(int(row[1]))  #row[1] is the rank column in the excel file\n",
    "        y.append(int(row[2]))  #row[2] is the frequency column in the excel file\n",
    "\n",
    "plt.loglog(x,y, label=\"Zipf's Law\")  # plotting the graph for frequency of words against its rank using log-log\n",
    "plt.xlabel('Rank') #X-axis label\n",
    "plt.ylabel('Frequency') #Y-axis label\n",
    "#plt.title(\"Zipf's Law\")\n",
    "plt.legend()\n",
    "plt.show()"
   ]
  },
  {
   "cell_type": "markdown",
   "metadata": {},
   "source": [
    "## Conclusion:\n",
    "### Thus we proved the Zipf's Law where the most frequent word will occur approximately twice as often as the second most frequent word, three times as often as the third most frequent word, etc."
   ]
  }
 ],
 "metadata": {
  "anaconda-cloud": {},
  "kernelspec": {
   "display_name": "Python [conda root]",
   "language": "python",
   "name": "conda-root-py"
  },
  "language_info": {
   "codemirror_mode": {
    "name": "ipython",
    "version": 3
   },
   "file_extension": ".py",
   "mimetype": "text/x-python",
   "name": "python",
   "nbconvert_exporter": "python",
   "pygments_lexer": "ipython3",
   "version": "3.5.2"
  }
 },
 "nbformat": 4,
 "nbformat_minor": 1
}
