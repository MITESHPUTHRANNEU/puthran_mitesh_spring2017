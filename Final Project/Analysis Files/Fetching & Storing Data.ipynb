{
 "cells": [
  {
   "cell_type": "markdown",
   "metadata": {},
   "source": [
    "# Fetching and Storing Data"
   ]
  },
  {
   "cell_type": "code",
   "execution_count": null,
   "metadata": {
    "collapsed": true
   },
   "outputs": [],
   "source": [
    "import time  #importing the required packages\n",
    "import requests\n",
    "import urllib.parse\n",
    "import json\n",
    "import os\n",
    "import pandas"
   ]
  },
  {
   "cell_type": "code",
   "execution_count": null,
   "metadata": {
    "collapsed": true
   },
   "outputs": [],
   "source": [
    "ny_api_key = os.getenv('ny_key') #getting the API key that was exported as envoirnment variable"
   ]
  },
  {
   "cell_type": "markdown",
   "metadata": {},
   "source": [
    "### Getting the data with API request"
   ]
  },
  {
   "cell_type": "code",
   "execution_count": null,
   "metadata": {
    "collapsed": true
   },
   "outputs": [],
   "source": [
    "url = 'https://data.cityofnewyork.us/resource/qiz3-axqb.json?$$app_token='+str(ny_api_key) #getting the data from the website\n",
    "response = requests.get(url).json()\n",
    "with open('Data//ny_collisions.json', 'w') as out_file:\n",
    "    json.dump(response, out_file) #saving the json data"
   ]
  },
  {
   "cell_type": "code",
   "execution_count": null,
   "metadata": {
    "collapsed": true
   },
   "outputs": [],
   "source": [
    "import json\n",
    "with open('Data//ny_collisions.json') as json_data:\n",
    "    d = json.load(json_data)  "
   ]
  },
  {
   "cell_type": "markdown",
   "metadata": {},
   "source": [
    "### Creating a folder structure to store data according to the borough and the respective zip code"
   ]
  },
  {
   "cell_type": "code",
   "execution_count": null,
   "metadata": {
    "collapsed": true
   },
   "outputs": [],
   "source": [
    "import json\n",
    "import os\n",
    "from pprint import pprint\n",
    "\n",
    "with open('Data//ny_collisions.json') as json_data: #reading downloaded json file\n",
    "    data = json.load(json_data)\n",
    "    for i in range(len(data)):\n",
    "        if(('borough' in d[i].keys())): #checking out if borough key value pair is present in the json file\n",
    "            boroughf=d[i][\"borough\"]\n",
    "        else:\n",
    "            borough='' #if its noot presrnt then blank value is assigned to it\n",
    "        if(('zip_code' in d[i].keys())):\n",
    "            zip_code=d[i][\"zip_code\"]\n",
    "        else:\n",
    "            zip_code=''\n",
    "            \n",
    "        borough=\"\\ProcessedData\\\\\" +boroughf+'\\\\'+zip_code #making the direcories repectively\n",
    "        presentborough=os.path.isdir(borough) # checking if the folder already exists\n",
    "        if presentborough==False:\n",
    "            os.makedirs(borough)  #if not present then make one\n",
    "        with open(borough+'\\\\'+zip_code+'.json', 'w') as outfile:\n",
    "            json.dump(data, outfile) #dumping the json files to their respective directories"
   ]
  },
  {
   "cell_type": "markdown",
   "metadata": {},
   "source": [
    "### Printing the values from the json files into a CSV file (Here I am checking for each and every json for the keys as all don't have exact same number)"
   ]
  },
  {
   "cell_type": "code",
   "execution_count": null,
   "metadata": {
    "collapsed": true
   },
   "outputs": [],
   "source": [
    "import csv\n",
    "import json\n",
    "\n",
    "with open('Data//ny_collisions.json') as json_data:\n",
    "    d = json.load(json_data)\n",
    "\n",
    "    veh_data = csv.writer(open(\"ProcessedData//NYPD_Motor_Vehicle_Collisions.csv\", \"w\",newline='')) #specifying the output file\n",
    "\n",
    "    veh_data.writerow([\"OFF STREET NAME\", \"NUMBER OF MOTORIST INJURED\", \"VEHICLE TYPE CODE 2\", \"CONTRIBUTING FACTOR VEHICLE 1\", \"NUMBER OF MOTORIST KILLED\",\"BOROUGH\",\"NUMBER OF PERSONS KILLED\",\"DATE\",\"NUMBER OF CYCLIST INJURED\",\n",
    "                  \"computed_region_f5dn_yrer\",\"NUMBER OF CYCLIST KILLED\",\"computed_region_92fq_4b7q\",\"computed_region_yeji_bk3q\",\"NUMBER OF PERSONS INJURED\",\"CONTRIBUTING FACTOR VEHICLE 2\",\"UNIQUE KEY\",\n",
    "                  \"NUMBER OF PEDESTRIANS KILLED\",\"computed_region_sbqj_enih\",\"LATITUDE\",\"@computed_region_efsh_h5xi\",\"ON STREET NAME\",\"LOCATION\",\"TIME\",\"LONGITUDE\",\n",
    "                  \"NUMBER OF PEDESTRIANS INJURED\",\"VEHICLE TYPE CODE 1\",\"ZIP CODE\"]) #printing the header in the CSV file\n",
    "\n",
    "    for i in range(len(d)):   #checking all the key value pairs in the json file\n",
    "        if(('off_street_name' in d[i].keys())):\n",
    "            off_street_name=d[i][\"off_street_name\"]  #storing the values in a variable if its present in the json file\n",
    "        else:\n",
    "            off_street_name=''  # or else printing blank value if the value is not available\n",
    "        if(('number_of_motorist_injured' in d[i].keys())):\n",
    "            number_of_motorist_injured=d[i][\"number_of_motorist_injured\"]\n",
    "        else:\n",
    "            number_of_motorist_injured=''\n",
    "        if(('vehicle_type_code2' in d[i].keys())):\n",
    "            vehicle_type_code2=d[i][\"vehicle_type_code2\"]\n",
    "        else:\n",
    "            vehicle_type_code2=''\n",
    "        if(('contributing_factor_vehicle_1' in d[i].keys())):\n",
    "            contributing_factor_vehicle_1=d[i][\"contributing_factor_vehicle_1\"]\n",
    "        else:\n",
    "            contributing_factor_vehicle_1=''\n",
    "        if(('number_of_motorist_killed' in d[i].keys())):\n",
    "            number_of_motorist_killed=d[i][\"number_of_motorist_killed\"]\n",
    "        else:\n",
    "            number_of_motorist_killed=''\n",
    "        if(('borough' in d[i].keys())):\n",
    "            borough=d[i][\"borough\"]\n",
    "        else:\n",
    "            borough=''\n",
    "        if(('date' in d[i].keys())):\n",
    "            date=d[i][\"date\"]\n",
    "        else:\n",
    "            date=''\n",
    "        if(('number_of_cyclist_injured' in d[i].keys())):\n",
    "            number_of_cyclist_injured=d[i][\"number_of_cyclist_injured\"]\n",
    "        else:\n",
    "            number_of_cyclist_injured=''\n",
    "        if((':@computed_region_f5dn_yrer' in d[i].keys())):\n",
    "            computed_region_f5dn_yrer=d[i][\":@computed_region_f5dn_yrer\"]\n",
    "        else:\n",
    "            computed_region_f5dn_yrer=''\n",
    "        if(('number_of_persons_injured' in d[i].keys())):\n",
    "            number_of_persons_injured=d[i][\"number_of_persons_injured\"]\n",
    "        else:\n",
    "            number_of_persons_injured=''\n",
    "        if(('contributing_factor_vehicle_2' in d[i].keys())):\n",
    "            contributing_factor_vehicle_2=d[i][\"contributing_factor_vehicle_2\"]\n",
    "        else:\n",
    "            contributing_factor_vehicle_2=''\n",
    "        if(('unique_key' in d[i].keys())):\n",
    "            unique_key=d[i][\"unique_key\"]\n",
    "        else:\n",
    "            unique_key=''\n",
    "        if(('number_of_pedestrians_killed' in d[i].keys())):\n",
    "            number_of_pedestrians_killed=d[i][\"number_of_pedestrians_killed\"]\n",
    "        else:\n",
    "            number_of_pedestrians_killed=''\n",
    "        if((':@computed_region_sbqj_enih' in d[i].keys())):\n",
    "            computed_region_sbqj_enih=d[i][\":@computed_region_sbqj_enih\"]\n",
    "        else:\n",
    "            computed_region_sbqj_enih=''\n",
    "        if(('on_street_name' in d[i].keys())):\n",
    "            on_street_name=d[i][\"on_street_name\"]\n",
    "        else:\n",
    "            on_street_name=''\n",
    "        if(('locationtype' in d[i].keys())):\n",
    "            locationtype=d[i][\"locationtype\"]\n",
    "        else:\n",
    "            locationtype=''\n",
    "        if(('locationcoordinates' in d[i].keys())):\n",
    "            locationcoordinates=d[i][\"locationcoordinates\"]\n",
    "        else:\n",
    "            locationcoordinates=''\n",
    "        if(('time' in d[i].keys())):\n",
    "            time=d[i][\"time\"]\n",
    "        else:\n",
    "            time=''\n",
    "        if(('longitude' in d[i].keys())):\n",
    "            longitude=d[i][\"longitude\"]\n",
    "        else:\n",
    "            longitude=''\n",
    "        if(('number_of_pedestrians_injured' in d[i].keys())):\n",
    "            number_of_pedestrians_injured=d[i][\"number_of_pedestrians_injured\"]\n",
    "        else:\n",
    "            number_of_pedestrians_injured=''\n",
    "        if(('vehicle_type_code1' in d[i].keys())):\n",
    "            vehicle_type_code1=d[i][\"vehicle_type_code1\"]\n",
    "        else:\n",
    "            vehicle_type_code1=''\n",
    "        if(('zip_code' in d[i].keys())):\n",
    "            zip_code=d[i][\"zip_code\"]\n",
    "        else:\n",
    "            zip_code=''\n",
    "        if(('number_of_persons_killed' in d[i].keys())):\n",
    "            number_of_persons_killed=d[i][\"number_of_persons_killed\"]\n",
    "        else:\n",
    "            number_of_persons_killed=''\n",
    "        if(('latitude' in d[i].keys())):\n",
    "            latitude=d[i][\"latitude\"]\n",
    "        else:\n",
    "            latitude=''\n",
    "        if(('computed_region_efsh_h5xi' in d[i].keys())):\n",
    "            computed_region_efsh_h5xi=d[i][\"computed_region_efsh_h5xi\"]\n",
    "        else:\n",
    "            computed_region_efsh_h5xi=''\n",
    "\n",
    "        veh_data.writerow((off_street_name,\n",
    "                number_of_motorist_injured,\n",
    "                vehicle_type_code2,contributing_factor_vehicle_1,number_of_motorist_killed,\n",
    "                borough,number_of_persons_killed,date,number_of_cyclist_injured,computed_region_f5dn_yrer,\n",
    "                number_of_persons_injured,contributing_factor_vehicle_2,unique_key,number_of_pedestrians_killed,\n",
    "                computed_region_sbqj_enih,\n",
    "                latitude,computed_region_efsh_h5xi,on_street_name,\n",
    "                locationtype,\n",
    "                locationcoordinates,\n",
    "                time,\n",
    "                longitude,\n",
    "                number_of_pedestrians_injured,\n",
    "                vehicle_type_code1,\n",
    "                zip_code)) #printing all the values obtained into the CSV file"
   ]
  }
 ],
 "metadata": {
  "anaconda-cloud": {},
  "kernelspec": {
   "display_name": "Python [conda root]",
   "language": "python",
   "name": "conda-root-py"
  },
  "language_info": {
   "codemirror_mode": {
    "name": "ipython",
    "version": 3
   },
   "file_extension": ".py",
   "mimetype": "text/x-python",
   "name": "python",
   "nbconvert_exporter": "python",
   "pygments_lexer": "ipython3",
   "version": "3.5.2"
  }
 },
 "nbformat": 4,
 "nbformat_minor": 2
}
