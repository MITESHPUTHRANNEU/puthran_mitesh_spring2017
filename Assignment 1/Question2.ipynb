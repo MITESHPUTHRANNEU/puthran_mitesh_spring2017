{
 "cells": [
  {
   "cell_type": "markdown",
   "metadata": {},
   "source": [
    "## Question 2\n"
   ]
  },
  {
   "cell_type": "markdown",
   "metadata": {},
   "source": [
    "**Under package Gutenberg get content from file 'melville-moby_dick.txt.' (HINT: Words? Raw?)\n",
    "Find out frequency of 26 characters in order base on their frequency. "
   ]
  },
  {
   "cell_type": "code",
   "execution_count": 3,
   "metadata": {
    "collapsed": true
   },
   "outputs": [],
   "source": [
    "import nltk"
   ]
  },
  {
   "cell_type": "code",
   "execution_count": 7,
   "metadata": {
    "collapsed": false
   },
   "outputs": [
    {
     "name": "stdout",
     "output_type": "stream",
     "text": [
      "The frequency of each character in the text file in descending order is as follows :\n",
      "e 117092\n",
      "t 87996\n",
      "a 77916\n",
      "o 69326\n",
      "n 65617\n",
      "i 65434\n",
      "s 64231\n",
      "h 62896\n",
      "r 52134\n",
      "l 42793\n",
      "d 38219\n",
      "u 26697\n",
      "m 23277\n",
      "c 22507\n",
      "w 22222\n",
      "f 20833\n",
      "g 20820\n",
      "p 17255\n",
      "b 16877\n",
      "y 16872\n",
      "v 8598\n",
      "k 8059\n",
      "q 1556\n",
      "j 1082\n",
      "x 1030\n",
      "z 632\n",
      "1 142\n",
      "0 131\n",
      "2 60\n",
      "8 59\n",
      "5 55\n",
      "7 53\n",
      "3 47\n",
      "4 39\n",
      "6 37\n",
      "9 35\n"
     ]
    }
   ],
   "source": [
    "file = nltk.corpus.gutenberg.words('melville-moby_dick.txt')\n",
    "file = [word.lower() for word in file]  # converting the texts into lowercase\n",
    "import string # importing string package\n",
    "file = [word.strip(string.punctuation) for word in file] # code to remove punctuation marks from the text file\n",
    "freqs = {} # creating empty dictonary\n",
    "for line in file:              # calculating the frequencies\n",
    "    for char in line:\n",
    "        if char in freqs:\n",
    "            freqs[char] += 1\n",
    "        else:\n",
    "            freqs[char] = 1\n",
    "\n",
    "            copy = []       # creating a empty list\n",
    "for k,v in freqs.items():\n",
    "    copy.append((v, k))     # appending the key and values together\n",
    "\n",
    "copy = sorted(copy, reverse=True)   # sorting the values in descending order\n",
    "print (\"The frequency of each character in the text file in descending order is as follows :\")\n",
    "for k in copy:\n",
    "        print (k[1], k[0])\n"
   ]
  },
  {
   "cell_type": "code",
   "execution_count": null,
   "metadata": {
    "collapsed": true
   },
   "outputs": [],
   "source": []
  }
 ],
 "metadata": {
  "anaconda-cloud": {},
  "kernelspec": {
   "display_name": "Python [conda root]",
   "language": "python",
   "name": "conda-root-py"
  },
  "language_info": {
   "codemirror_mode": {
    "name": "ipython",
    "version": 3
   },
   "file_extension": ".py",
   "mimetype": "text/x-python",
   "name": "python",
   "nbconvert_exporter": "python",
   "pygments_lexer": "ipython3",
   "version": "3.5.2"
  }
 },
 "nbformat": 4,
 "nbformat_minor": 1
}
