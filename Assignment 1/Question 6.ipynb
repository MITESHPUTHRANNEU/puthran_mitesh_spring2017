{
 "cells": [
  {
   "cell_type": "markdown",
   "metadata": {},
   "source": [
    "## Question 6"
   ]
  },
  {
   "cell_type": "markdown",
   "metadata": {},
   "source": [
    "** Under Inaugural Address package, For every president, find out how many unique words they used in speech. "
   ]
  },
  {
   "cell_type": "code",
   "execution_count": 1,
   "metadata": {
    "collapsed": true
   },
   "outputs": [],
   "source": [
    "import nltk"
   ]
  },
  {
   "cell_type": "code",
   "execution_count": 2,
   "metadata": {
    "collapsed": false
   },
   "outputs": [
    {
     "data": {
      "text/plain": [
       "['1789-Washington.txt',\n",
       " '1793-Washington.txt',\n",
       " '1797-Adams.txt',\n",
       " '1801-Jefferson.txt',\n",
       " '1805-Jefferson.txt',\n",
       " '1809-Madison.txt',\n",
       " '1813-Madison.txt',\n",
       " '1817-Monroe.txt',\n",
       " '1821-Monroe.txt',\n",
       " '1825-Adams.txt',\n",
       " '1829-Jackson.txt',\n",
       " '1833-Jackson.txt',\n",
       " '1837-VanBuren.txt',\n",
       " '1841-Harrison.txt',\n",
       " '1845-Polk.txt',\n",
       " '1849-Taylor.txt',\n",
       " '1853-Pierce.txt',\n",
       " '1857-Buchanan.txt',\n",
       " '1861-Lincoln.txt',\n",
       " '1865-Lincoln.txt',\n",
       " '1869-Grant.txt',\n",
       " '1873-Grant.txt',\n",
       " '1877-Hayes.txt',\n",
       " '1881-Garfield.txt',\n",
       " '1885-Cleveland.txt',\n",
       " '1889-Harrison.txt',\n",
       " '1893-Cleveland.txt',\n",
       " '1897-McKinley.txt',\n",
       " '1901-McKinley.txt',\n",
       " '1905-Roosevelt.txt',\n",
       " '1909-Taft.txt',\n",
       " '1913-Wilson.txt',\n",
       " '1917-Wilson.txt',\n",
       " '1921-Harding.txt',\n",
       " '1925-Coolidge.txt',\n",
       " '1929-Hoover.txt',\n",
       " '1933-Roosevelt.txt',\n",
       " '1937-Roosevelt.txt',\n",
       " '1941-Roosevelt.txt',\n",
       " '1945-Roosevelt.txt',\n",
       " '1949-Truman.txt',\n",
       " '1953-Eisenhower.txt',\n",
       " '1957-Eisenhower.txt',\n",
       " '1961-Kennedy.txt',\n",
       " '1965-Johnson.txt',\n",
       " '1969-Nixon.txt',\n",
       " '1973-Nixon.txt',\n",
       " '1977-Carter.txt',\n",
       " '1981-Reagan.txt',\n",
       " '1985-Reagan.txt',\n",
       " '1989-Bush.txt',\n",
       " '1993-Clinton.txt',\n",
       " '1997-Clinton.txt',\n",
       " '2001-Bush.txt',\n",
       " '2005-Bush.txt',\n",
       " '2009-Obama.txt']"
      ]
     },
     "execution_count": 2,
     "metadata": {},
     "output_type": "execute_result"
    }
   ],
   "source": [
    "from nltk.corpus import inaugural\n",
    "inaugural.fileids()"
   ]
  },
  {
   "cell_type": "code",
   "execution_count": 63,
   "metadata": {
    "collapsed": false
   },
   "outputs": [],
   "source": [
    "def getUniqueWords(allWords) :\n",
    "    count = {}\n",
    "    uniqueWords = [] \n",
    "    for i in allWords:\n",
    "        if i in count:\n",
    "           # uniqueWords.append(i)\n",
    "            count[i] += 1\n",
    "        else:\n",
    "            count[i] = 1\n",
    "    #return uniqueWords\n",
    "    print (len(count))"
   ]
  },
  {
   "cell_type": "code",
   "execution_count": 64,
   "metadata": {
    "collapsed": false
   },
   "outputs": [
    {
     "name": "stdout",
     "output_type": "stream",
     "text": [
      "The unique words used by president Washington is as follows: \n",
      "628\n",
      "None\n"
     ]
    }
   ],
   "source": [
    "print (\"The number of unique words used by president Washington is as follows: \")\n",
    "print (getUniqueWords(nltk.corpus.inaugural.words('1789-Washington.txt')));"
   ]
  },
  {
   "cell_type": "code",
   "execution_count": 65,
   "metadata": {
    "collapsed": false
   },
   "outputs": [
    {
     "name": "stdout",
     "output_type": "stream",
     "text": [
      "The unique words used by president Adams is as follows: \n",
      "828\n",
      "None\n"
     ]
    }
   ],
   "source": [
    "print (\"The unique words used by president Adams is as follows: \")\n",
    "print (getUniqueWords(nltk.corpus.inaugural.words('1797-Adams.txt')));"
   ]
  },
  {
   "cell_type": "code",
   "execution_count": 66,
   "metadata": {
    "collapsed": false
   },
   "outputs": [
    {
     "name": "stdout",
     "output_type": "stream",
     "text": [
      "The unique words used by president Washington is as follows: \n",
      "717\n",
      "None\n"
     ]
    }
   ],
   "source": [
    "print (\"The unique words used by president Jefferson is as follows: \")\n",
    "print (getUniqueWords(nltk.corpus.inaugural.words('1801-Jefferson.txt')));"
   ]
  },
  {
   "cell_type": "code",
   "execution_count": 67,
   "metadata": {
    "collapsed": false
   },
   "outputs": [
    {
     "name": "stdout",
     "output_type": "stream",
     "text": [
      "The unique words used by president Madison is as follows: \n",
      "537\n",
      "None\n"
     ]
    }
   ],
   "source": [
    "print (\"The unique words used by president Madison is as follows: \")\n",
    "print (getUniqueWords(nltk.corpus.inaugural.words('1809-Madison.txt'))); "
   ]
  },
  {
   "cell_type": "code",
   "execution_count": 68,
   "metadata": {
    "collapsed": false
   },
   "outputs": [
    {
     "name": "stdout",
     "output_type": "stream",
     "text": [
      "The unique words used by president Monroe is as follows: \n",
      "1041\n",
      "None\n"
     ]
    }
   ],
   "source": [
    "print (\"The unique words used by president Monroe is as follows: \")\n",
    "print (getUniqueWords(nltk.corpus.inaugural.words('1817-Monroe.txt')));"
   ]
  },
  {
   "cell_type": "code",
   "execution_count": 69,
   "metadata": {
    "collapsed": false
   },
   "outputs": [
    {
     "name": "stdout",
     "output_type": "stream",
     "text": [
      "The unique words used by president Adams is as follows: \n",
      "1007\n",
      "None\n"
     ]
    }
   ],
   "source": [
    "print (\"The unique words used by president Adams is as follows: \")\n",
    "print (getUniqueWords(nltk.corpus.inaugural.words('1825-Adams.txt')));"
   ]
  },
  {
   "cell_type": "code",
   "execution_count": 70,
   "metadata": {
    "collapsed": false
   },
   "outputs": [
    {
     "name": "stdout",
     "output_type": "stream",
     "text": [
      "The unique words used by president Adams is as follows: \n",
      "517\n",
      "None\n"
     ]
    }
   ],
   "source": [
    "print (\"The unique words used by president Adams is as follows: \")\n",
    "print (getUniqueWords(nltk.corpus.inaugural.words('1829-Jackson.txt')));"
   ]
  },
  {
   "cell_type": "code",
   "execution_count": 71,
   "metadata": {
    "collapsed": false
   },
   "outputs": [
    {
     "name": "stdout",
     "output_type": "stream",
     "text": [
      "The unique words used by president Adams is as follows: \n",
      "1318\n",
      "None\n"
     ]
    }
   ],
   "source": [
    "print (\"The unique words used by president Adams is as follows: \")\n",
    "print (getUniqueWords(nltk.corpus.inaugural.words('1837-VanBuren.txt')));"
   ]
  },
  {
   "cell_type": "code",
   "execution_count": 72,
   "metadata": {
    "collapsed": false
   },
   "outputs": [
    {
     "name": "stdout",
     "output_type": "stream",
     "text": [
      "The unique words used by president Adams is as follows: \n",
      "1893\n",
      "None\n"
     ]
    }
   ],
   "source": [
    "print (\"The unique words used by president Adams is as follows: \")\n",
    "print (getUniqueWords(nltk.corpus.inaugural.words('1841-Harrison.txt')));"
   ]
  },
  {
   "cell_type": "code",
   "execution_count": 73,
   "metadata": {
    "collapsed": false
   },
   "outputs": [
    {
     "name": "stdout",
     "output_type": "stream",
     "text": [
      "The unique words used by president Adams is as follows: \n",
      "820\n",
      "None\n"
     ]
    }
   ],
   "source": [
    "print (\"The unique words used by president Adams is as follows: \")\n",
    "print (getUniqueWords(nltk.corpus.inaugural.words('1893-Cleveland.txt')));"
   ]
  },
  {
   "cell_type": "code",
   "execution_count": 75,
   "metadata": {
    "collapsed": false
   },
   "outputs": [
    {
     "name": "stdout",
     "output_type": "stream",
     "text": [
      "The unique words used by president Adams is as follows: \n",
      "499\n",
      "None\n"
     ]
    }
   ],
   "source": [
    "print (\"The unique words used by president Adams is as follows: \")\n",
    "print (getUniqueWords(nltk.corpus.inaugural.words('1849-Taylor.txt')));"
   ]
  },
  {
   "cell_type": "code",
   "execution_count": 76,
   "metadata": {
    "collapsed": false
   },
   "outputs": [
    {
     "name": "stdout",
     "output_type": "stream",
     "text": [
      "The unique words used by president Adams is as follows: \n",
      "1333\n",
      "None\n"
     ]
    }
   ],
   "source": [
    "print (\"The unique words used by president Adams is as follows: \")\n",
    "print (getUniqueWords(nltk.corpus.inaugural.words('1845-Polk.txt')));"
   ]
  },
  {
   "cell_type": "code",
   "execution_count": 77,
   "metadata": {
    "collapsed": false
   },
   "outputs": [
    {
     "name": "stdout",
     "output_type": "stream",
     "text": [
      "The unique words used by president Adams is as follows: \n",
      "1168\n",
      "None\n"
     ]
    }
   ],
   "source": [
    "print (\"The unique words used by president Adams is as follows: \")\n",
    "print (getUniqueWords(nltk.corpus.inaugural.words('1853-Pierce.txt')));"
   ]
  },
  {
   "cell_type": "code",
   "execution_count": 78,
   "metadata": {
    "collapsed": false
   },
   "outputs": [
    {
     "name": "stdout",
     "output_type": "stream",
     "text": [
      "The unique words used by president Adams is as follows: \n",
      "948\n",
      "None\n"
     ]
    }
   ],
   "source": [
    "print (\"The unique words used by president Adams is as follows: \")\n",
    "print (getUniqueWords(nltk.corpus.inaugural.words('1857-Buchanan.txt')));"
   ]
  },
  {
   "cell_type": "code",
   "execution_count": 79,
   "metadata": {
    "collapsed": false
   },
   "outputs": [
    {
     "name": "stdout",
     "output_type": "stream",
     "text": [
      "The unique words used by president Adams is as follows: \n",
      "1078\n",
      "None\n"
     ]
    }
   ],
   "source": [
    "print (\"The unique words used by president Adams is as follows: \")\n",
    "print (getUniqueWords(nltk.corpus.inaugural.words('1861-Lincoln.txt')));"
   ]
  },
  {
   "cell_type": "code",
   "execution_count": 80,
   "metadata": {
    "collapsed": false
   },
   "outputs": [
    {
     "name": "stdout",
     "output_type": "stream",
     "text": [
      "The unique words used by president Adams is as follows: \n",
      "489\n",
      "None\n"
     ]
    }
   ],
   "source": [
    "print (\"The unique words used by president Adams is as follows: \")\n",
    "print (getUniqueWords(nltk.corpus.inaugural.words('1869-Grant.txt')));"
   ]
  },
  {
   "cell_type": "code",
   "execution_count": 81,
   "metadata": {
    "collapsed": false
   },
   "outputs": [
    {
     "name": "stdout",
     "output_type": "stream",
     "text": [
      "The unique words used by president Adams is as follows: \n",
      "832\n",
      "None\n"
     ]
    }
   ],
   "source": [
    "print (\"The unique words used by president Adams is as follows: \")\n",
    "print (getUniqueWords(nltk.corpus.inaugural.words('1877-Hayes.txt')));"
   ]
  },
  {
   "cell_type": "code",
   "execution_count": 82,
   "metadata": {
    "collapsed": false
   },
   "outputs": [
    {
     "name": "stdout",
     "output_type": "stream",
     "text": [
      "The unique words used by president Adams is as follows: \n",
      "793\n",
      "None\n"
     ]
    }
   ],
   "source": [
    "print (\"The unique words used by president Adams is as follows: \")\n",
    "print (getUniqueWords(nltk.corpus.inaugural.words('1989-Bush.txt')));"
   ]
  },
  {
   "cell_type": "code",
   "execution_count": 85,
   "metadata": {
    "collapsed": false
   },
   "outputs": [
    {
     "name": "stdout",
     "output_type": "stream",
     "text": [
      "The unique words used by president Adams is as follows: \n",
      "774\n",
      "None\n"
     ]
    }
   ],
   "source": [
    "print (\"The unique words used by president Adams is as follows: \")\n",
    "print (getUniqueWords(nltk.corpus.inaugural.words('1997-Clinton.txt')));"
   ]
  },
  {
   "cell_type": "code",
   "execution_count": 86,
   "metadata": {
    "collapsed": false
   },
   "outputs": [
    {
     "name": "stdout",
     "output_type": "stream",
     "text": [
      "The unique words used by president Adams is as follows: \n",
      "622\n",
      "None\n"
     ]
    }
   ],
   "source": [
    "print (\"The unique words used by president Adams is as follows: \")\n",
    "print (getUniqueWords(nltk.corpus.inaugural.words('2001-Bush.txt')));"
   ]
  },
  {
   "cell_type": "code",
   "execution_count": 87,
   "metadata": {
    "collapsed": false
   },
   "outputs": [
    {
     "name": "stdout",
     "output_type": "stream",
     "text": [
      "The unique words used by president Adams is as follows: \n",
      "783\n",
      "None\n"
     ]
    }
   ],
   "source": [
    "print (\"The unique words used by president Adams is as follows: \")\n",
    "print (getUniqueWords(nltk.corpus.inaugural.words('2005-Bush.txt')));"
   ]
  },
  {
   "cell_type": "code",
   "execution_count": 88,
   "metadata": {
    "collapsed": false
   },
   "outputs": [
    {
     "name": "stdout",
     "output_type": "stream",
     "text": [
      "The unique words used by president Adams is as follows: \n",
      "938\n",
      "None\n"
     ]
    }
   ],
   "source": [
    "print (\"The unique words used by president Adams is as follows: \")\n",
    "print (getUniqueWords(nltk.corpus.inaugural.words('2009-Obama.txt')));"
   ]
  },
  {
   "cell_type": "code",
   "execution_count": null,
   "metadata": {
    "collapsed": true
   },
   "outputs": [],
   "source": []
  }
 ],
 "metadata": {
  "anaconda-cloud": {},
  "kernelspec": {
   "display_name": "Python [conda root]",
   "language": "python",
   "name": "conda-root-py"
  },
  "language_info": {
   "codemirror_mode": {
    "name": "ipython",
    "version": 3
   },
   "file_extension": ".py",
   "mimetype": "text/x-python",
   "name": "python",
   "nbconvert_exporter": "python",
   "pygments_lexer": "ipython3",
   "version": "3.5.2"
  }
 },
 "nbformat": 4,
 "nbformat_minor": 1
}
